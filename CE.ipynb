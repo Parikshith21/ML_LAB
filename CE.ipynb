{
  "nbformat": 4,
  "nbformat_minor": 0,
  "metadata": {
    "colab": {
      "name": "CE.ipynb",
      "provenance": [],
      "collapsed_sections": [],
      "include_colab_link": true
    },
    "kernelspec": {
      "name": "python3",
      "display_name": "Python 3"
    }
  },
  "cells": [
    {
      "cell_type": "markdown",
      "metadata": {
        "id": "view-in-github",
        "colab_type": "text"
      },
      "source": [
        "<a href=\"https://colab.research.google.com/github/Parikshith21/ML_LAB/blob/master/CE.ipynb\" target=\"_parent\"><img src=\"https://colab.research.google.com/assets/colab-badge.svg\" alt=\"Open In Colab\"/></a>"
      ]
    },
    {
      "cell_type": "code",
      "metadata": {
        "id": "RoqB6TRR6Bmq",
        "colab_type": "code",
        "outputId": "f3628203-268f-4a6e-db6b-9b283e528ab3",
        "colab": {
          "base_uri": "https://localhost:8080/",
          "height": 51
        }
      },
      "source": [
        "#Candidate elimination\n",
        "import  csv\n",
        "with open('/content/findss.csv') as file2:#get the locatio from file in desktop\n",
        "    reader2 = csv.reader(file2)\n",
        "    data2 = list(reader2)\n",
        "    can = []\n",
        "    gh = []\n",
        "    h = [0,0,0,0,0,0]#number of attribues=number of 0's\n",
        "    for row in data2[1:]:\n",
        "        if row[-1] == 'Yes':#check whether yes is in capital or small in the dataset\n",
        "            j=0\n",
        "            for col in row:\n",
        "                if col != 'Yes':#because yes column need not be compared\n",
        "                    if h[j] != col and h[j] == 0:\n",
        "                        h[j] = col\n",
        "                    elif h[j] != col and h[j] != 0:\n",
        "                        h[j] = '?'\n",
        "                    j = j+1\n",
        "        elif row[-1] != 'Yes':#for the No value\n",
        "            i=0\n",
        "            for col in row:\n",
        "                if col != 'No':\n",
        "                    if h[i] != col and h[i] != '?' and h[i] != 0:#checking whether it's oppostie exists\n",
        "                        g = ['?','?','?','?','?','?']\n",
        "                        g[i] = h[i]\n",
        "                        gh.append(g)\n",
        "                    i = i+1\n",
        "    print(\"Generic Boundry :\",gh)\n",
        "    print(\"Specific Boundry :\",h)"
      ],
      "execution_count": 0,
      "outputs": [
        {
          "output_type": "stream",
          "text": [
            "Generic Boundry : [['Sunny', '?', '?', '?', '?', '?'], ['?', 'Warm', '?', '?', '?', '?']]\n",
            "Specific Boundry : ['Sunny', '?', '?', 'Strong', '?', '?']\n"
          ],
          "name": "stdout"
        }
      ]
    },
    {
      "cell_type": "code",
      "metadata": {
        "id": "3HrhGdeX6MZb",
        "colab_type": "code",
        "colab": {}
      },
      "source": [
        ""
      ],
      "execution_count": 0,
      "outputs": []
    }
  ]
}