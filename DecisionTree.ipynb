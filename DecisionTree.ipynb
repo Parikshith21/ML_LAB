{
  "nbformat": 4,
  "nbformat_minor": 0,
  "metadata": {
    "kernelspec": {
      "display_name": "Python 3",
      "language": "python",
      "name": "python3"
    },
    "language_info": {
      "codemirror_mode": {
        "name": "ipython",
        "version": 3
      },
      "file_extension": ".py",
      "mimetype": "text/x-python",
      "name": "python",
      "nbconvert_exporter": "python",
      "pygments_lexer": "ipython3",
      "version": "3.6.5"
    },
    "colab": {
      "name": "DecisionTree.ipynb",
      "version": "0.3.2",
      "provenance": [],
      "collapsed_sections": [],
      "include_colab_link": true
    }
  },
  "cells": [
    {
      "cell_type": "markdown",
      "metadata": {
        "id": "view-in-github",
        "colab_type": "text"
      },
      "source": [
        "<a href=\"https://colab.research.google.com/github/Parikshith21/ML_LAB/blob/master/DecisionTree.ipynb\" target=\"_parent\"><img src=\"https://colab.research.google.com/assets/colab-badge.svg\" alt=\"Open In Colab\"/></a>"
      ]
    },
    {
      "cell_type": "code",
      "metadata": {
        "id": "h6uXP0F7fUYj",
        "colab_type": "code",
        "colab": {}
      },
      "source": [
        "import pandas as pd\n",
        "from pandas import DataFrame\n",
        "df_Tennis = pd.read_csv(r\"C:\\Users\\Student\\Desktop\\DATA_SET\\weather.csv\")"
      ],
      "execution_count": 0,
      "outputs": []
    },
    {
      "cell_type": "code",
      "metadata": {
        "id": "2h7er-yEfUYn",
        "colab_type": "code",
        "outputId": "b913691b-d48a-4d28-bf70-d4774a75ba85",
        "colab": {}
      },
      "source": [
        "df_Tennis"
      ],
      "execution_count": 0,
      "outputs": [
        {
          "output_type": "execute_result",
          "data": {
            "text/html": [
              "<div>\n",
              "<style scoped>\n",
              "    .dataframe tbody tr th:only-of-type {\n",
              "        vertical-align: middle;\n",
              "    }\n",
              "\n",
              "    .dataframe tbody tr th {\n",
              "        vertical-align: top;\n",
              "    }\n",
              "\n",
              "    .dataframe thead th {\n",
              "        text-align: right;\n",
              "    }\n",
              "</style>\n",
              "<table border=\"1\" class=\"dataframe\">\n",
              "  <thead>\n",
              "    <tr style=\"text-align: right;\">\n",
              "      <th></th>\n",
              "      <th>id</th>\n",
              "      <th>outlook</th>\n",
              "      <th>temperature</th>\n",
              "      <th>humidity</th>\n",
              "      <th>wind</th>\n",
              "      <th>play</th>\n",
              "    </tr>\n",
              "  </thead>\n",
              "  <tbody>\n",
              "    <tr>\n",
              "      <th>0</th>\n",
              "      <td>1</td>\n",
              "      <td>sunny</td>\n",
              "      <td>hot</td>\n",
              "      <td>high</td>\n",
              "      <td>weak</td>\n",
              "      <td>no</td>\n",
              "    </tr>\n",
              "    <tr>\n",
              "      <th>1</th>\n",
              "      <td>2</td>\n",
              "      <td>sunny</td>\n",
              "      <td>hot</td>\n",
              "      <td>high</td>\n",
              "      <td>strong</td>\n",
              "      <td>no</td>\n",
              "    </tr>\n",
              "    <tr>\n",
              "      <th>2</th>\n",
              "      <td>3</td>\n",
              "      <td>overcast</td>\n",
              "      <td>hot</td>\n",
              "      <td>high</td>\n",
              "      <td>weak</td>\n",
              "      <td>yes</td>\n",
              "    </tr>\n",
              "    <tr>\n",
              "      <th>3</th>\n",
              "      <td>4</td>\n",
              "      <td>rainy</td>\n",
              "      <td>mild</td>\n",
              "      <td>high</td>\n",
              "      <td>weak</td>\n",
              "      <td>yes</td>\n",
              "    </tr>\n",
              "    <tr>\n",
              "      <th>4</th>\n",
              "      <td>5</td>\n",
              "      <td>rainy</td>\n",
              "      <td>cool</td>\n",
              "      <td>normal</td>\n",
              "      <td>weak</td>\n",
              "      <td>yes</td>\n",
              "    </tr>\n",
              "    <tr>\n",
              "      <th>5</th>\n",
              "      <td>6</td>\n",
              "      <td>rainy</td>\n",
              "      <td>cool</td>\n",
              "      <td>normal</td>\n",
              "      <td>strong</td>\n",
              "      <td>no</td>\n",
              "    </tr>\n",
              "    <tr>\n",
              "      <th>6</th>\n",
              "      <td>7</td>\n",
              "      <td>overcast</td>\n",
              "      <td>cool</td>\n",
              "      <td>normal</td>\n",
              "      <td>strong</td>\n",
              "      <td>yes</td>\n",
              "    </tr>\n",
              "    <tr>\n",
              "      <th>7</th>\n",
              "      <td>8</td>\n",
              "      <td>sunny</td>\n",
              "      <td>mild</td>\n",
              "      <td>high</td>\n",
              "      <td>weak</td>\n",
              "      <td>no</td>\n",
              "    </tr>\n",
              "    <tr>\n",
              "      <th>8</th>\n",
              "      <td>9</td>\n",
              "      <td>sunny</td>\n",
              "      <td>cool</td>\n",
              "      <td>normal</td>\n",
              "      <td>weak</td>\n",
              "      <td>yes</td>\n",
              "    </tr>\n",
              "    <tr>\n",
              "      <th>9</th>\n",
              "      <td>10</td>\n",
              "      <td>rainy</td>\n",
              "      <td>mild</td>\n",
              "      <td>normal</td>\n",
              "      <td>weak</td>\n",
              "      <td>yes</td>\n",
              "    </tr>\n",
              "    <tr>\n",
              "      <th>10</th>\n",
              "      <td>11</td>\n",
              "      <td>sunny</td>\n",
              "      <td>mild</td>\n",
              "      <td>normal</td>\n",
              "      <td>strong</td>\n",
              "      <td>yes</td>\n",
              "    </tr>\n",
              "    <tr>\n",
              "      <th>11</th>\n",
              "      <td>12</td>\n",
              "      <td>overcast</td>\n",
              "      <td>mild</td>\n",
              "      <td>high</td>\n",
              "      <td>strong</td>\n",
              "      <td>yes</td>\n",
              "    </tr>\n",
              "    <tr>\n",
              "      <th>12</th>\n",
              "      <td>13</td>\n",
              "      <td>overcast</td>\n",
              "      <td>hot</td>\n",
              "      <td>normal</td>\n",
              "      <td>weak</td>\n",
              "      <td>yes</td>\n",
              "    </tr>\n",
              "    <tr>\n",
              "      <th>13</th>\n",
              "      <td>14</td>\n",
              "      <td>rainy</td>\n",
              "      <td>mild</td>\n",
              "      <td>high</td>\n",
              "      <td>strong</td>\n",
              "      <td>no</td>\n",
              "    </tr>\n",
              "  </tbody>\n",
              "</table>\n",
              "</div>"
            ],
            "text/plain": [
              "    id   outlook temperature humidity    wind play\n",
              "0    1     sunny         hot     high    weak   no\n",
              "1    2     sunny         hot     high  strong   no\n",
              "2    3  overcast         hot     high    weak  yes\n",
              "3    4     rainy        mild     high    weak  yes\n",
              "4    5     rainy        cool   normal    weak  yes\n",
              "5    6     rainy        cool   normal  strong   no\n",
              "6    7  overcast        cool   normal  strong  yes\n",
              "7    8     sunny        mild     high    weak   no\n",
              "8    9     sunny        cool   normal    weak  yes\n",
              "9   10     rainy        mild   normal    weak  yes\n",
              "10  11     sunny        mild   normal  strong  yes\n",
              "11  12  overcast        mild     high  strong  yes\n",
              "12  13  overcast         hot   normal    weak  yes\n",
              "13  14     rainy        mild     high  strong   no"
            ]
          },
          "metadata": {
            "tags": []
          },
          "execution_count": 4
        }
      ]
    },
    {
      "cell_type": "code",
      "metadata": {
        "id": "WRMxeeKdfUYr",
        "colab_type": "code",
        "colab": {}
      },
      "source": [
        "def Entropy(probs):\n",
        "    import math\n",
        "    return sum([-prob*math.log(prob,2) for prob in probs])"
      ],
      "execution_count": 0,
      "outputs": []
    },
    {
      "cell_type": "code",
      "metadata": {
        "id": "KmtuvObEfUYt",
        "colab_type": "code",
        "outputId": "23b676fd-dd74-463a-c311-4dfb8be705d5",
        "colab": {}
      },
      "source": [
        "def Entropy_of_list(a_list):\n",
        "    from collections import Counter\n",
        "    cnt = Counter(x for x in a_list)\n",
        "    print(\"No and Yes classes:\",a_list.name,cnt)\n",
        "    num_ins = len(a_list)*1.0\n",
        "    probs = [x/num_ins for x in cnt.values()]\n",
        "    return Entropy(probs)\n",
        "total_entropy = Entropy_of_list(df_Tennis['play'])\n",
        "total_entropy"
      ],
      "execution_count": 0,
      "outputs": [
        {
          "output_type": "stream",
          "text": [
            "No and Yes classes: play Counter({'yes': 9, 'no': 5})\n"
          ],
          "name": "stdout"
        },
        {
          "output_type": "execute_result",
          "data": {
            "text/plain": [
              "0.9402859586706309"
            ]
          },
          "metadata": {
            "tags": []
          },
          "execution_count": 15
        }
      ]
    },
    {
      "cell_type": "code",
      "metadata": {
        "id": "Tjbgo9QpfUYw",
        "colab_type": "code",
        "outputId": "8099ca3e-bbef-46a7-f419-ac966292d305",
        "colab": {}
      },
      "source": [
        "def information_gain(df,split_attr_name,target_attr_name,trace=0):\n",
        "    df_split = df.groupby(split_attr_name)\n",
        "    for name,group in df_split:\n",
        "        nobs = len(df.index)*1.0\n",
        "        df_aggregate_ent = df_split.agg({target_attr_name:[Entropy_of_list,lambda x:len(x)/nobs]})\n",
        "        df_aggregate_ent.columns = ['Entropy','properObservation']\n",
        "        new_entr = sum(df_aggregate_ent['Entropy']*df_aggregate_ent['properObservation'])\n",
        "        old_entr = Entropy_of_list(df[target_attr_name])\n",
        "        return old_entr - new_entr\n",
        "print('info gain of outlook is:'+str(information_gain(df_Tennis, 'outlook', 'play')),\"\\n\")\n",
        "print('info gain of temperature is:'+str(information_gain(df_Tennis, 'temperature', 'play')),\"\\n\")\n",
        "print('info gain of wind is:'+str(information_gain(df_Tennis, 'wind', 'play')),\"\\n\")\n",
        "print('info gain of humidity is:'+str(information_gain(df_Tennis, 'humidity', 'play')),\"\\n\")"
      ],
      "execution_count": 0,
      "outputs": [
        {
          "output_type": "stream",
          "text": [
            "No and Yes classes: play Counter({'yes': 4})\n",
            "No and Yes classes: play Counter({'yes': 3, 'no': 2})\n",
            "No and Yes classes: play Counter({'no': 3, 'yes': 2})\n",
            "No and Yes classes: play Counter({'yes': 9, 'no': 5})\n",
            "info gain of outlook is:0.2467498197744391 \n",
            "\n",
            "No and Yes classes: play Counter({'yes': 3, 'no': 1})\n",
            "No and Yes classes: play Counter({'no': 2, 'yes': 2})\n",
            "No and Yes classes: play Counter({'yes': 4, 'no': 2})\n",
            "No and Yes classes: play Counter({'yes': 9, 'no': 5})\n",
            "info gain of temperature is:0.029222565658954647 \n",
            "\n",
            "No and Yes classes: play Counter({'no': 3, 'yes': 3})\n",
            "No and Yes classes: play Counter({'yes': 6, 'no': 2})\n",
            "No and Yes classes: play Counter({'yes': 9, 'no': 5})\n",
            "info gain of wind is:0.04812703040826927 \n",
            "\n",
            "No and Yes classes: play Counter({'no': 4, 'yes': 3})\n",
            "No and Yes classes: play Counter({'yes': 6, 'no': 1})\n",
            "No and Yes classes: play Counter({'yes': 9, 'no': 5})\n",
            "info gain of humidity is:0.15183550136234136 \n",
            "\n"
          ],
          "name": "stdout"
        }
      ]
    },
    {
      "cell_type": "code",
      "metadata": {
        "id": "9q9CXAmQfUY0",
        "colab_type": "code",
        "colab": {}
      },
      "source": [
        "def id3(df,target_attr_name,attr_name,default_class = None):\n",
        "    from collections import Counter\n",
        "    cnt = Counter(x for x in df[target_attr_name])\n",
        "    \n",
        "    if len(cnt) == 1:\n",
        "        return next(iter(cnt))\n",
        "    elif df.empty or (not attr_name):\n",
        "        return default_class\n",
        "    else:\n",
        "        gainz = [information_gain(df,attr,target_attr_name) for attr in attr_name]\n",
        "        index_of_max = gainz.index(max(gainz))\n",
        "        best_attr = attr_name[index_of_max]\n",
        "        tree = {best_attr:{}}\n",
        "        remaining_attr = [i for i in attr_name if i != best_attr]\n",
        "        for attr_val, data_subset in df.groupby(best_attr):\n",
        "            subtree = id3(data_subset,target_attr_name,remaining_attr,default_class)\n",
        "            tree[best_attr][attr_val] = subtree\n",
        "        return tree"
      ],
      "execution_count": 0,
      "outputs": []
    },
    {
      "cell_type": "code",
      "metadata": {
        "id": "NcuR1eULfUY2",
        "colab_type": "code",
        "outputId": "2e17081a-2c0b-42ef-e183-0921567d1738",
        "colab": {}
      },
      "source": [
        "attr_names = list(df_Tennis.columns)\n",
        "print(attr_names)"
      ],
      "execution_count": 0,
      "outputs": [
        {
          "output_type": "stream",
          "text": [
            "['id', 'outlook', 'temperature', 'humidity', 'wind', 'play']\n"
          ],
          "name": "stdout"
        }
      ]
    },
    {
      "cell_type": "code",
      "metadata": {
        "id": "aCAXfRb4fUY5",
        "colab_type": "code",
        "outputId": "534ec8fe-573d-46eb-e2b9-b16e64a91595",
        "colab": {}
      },
      "source": [
        "attr_names.remove('play')\n",
        "attr_names.remove('id')\n",
        "print(attr_names)"
      ],
      "execution_count": 0,
      "outputs": [
        {
          "output_type": "stream",
          "text": [
            "['outlook', 'temperature', 'humidity', 'wind']\n"
          ],
          "name": "stdout"
        }
      ]
    },
    {
      "cell_type": "code",
      "metadata": {
        "id": "qcSSIMxvfUY7",
        "colab_type": "code",
        "outputId": "7b0dd470-d92c-429d-b84f-46025a498378",
        "colab": {}
      },
      "source": [
        "from pprint import pprint\n",
        "tree = id3(df_Tennis,'play',attr_names)\n",
        "print(\"Final Decision Tree:\\n\")\n",
        "pprint(tree)"
      ],
      "execution_count": 0,
      "outputs": [
        {
          "output_type": "stream",
          "text": [
            "No and Yes classes: play Counter({'yes': 4})\n",
            "No and Yes classes: play Counter({'yes': 3, 'no': 2})\n",
            "No and Yes classes: play Counter({'no': 3, 'yes': 2})\n",
            "No and Yes classes: play Counter({'yes': 9, 'no': 5})\n",
            "No and Yes classes: play Counter({'yes': 3, 'no': 1})\n",
            "No and Yes classes: play Counter({'no': 2, 'yes': 2})\n",
            "No and Yes classes: play Counter({'yes': 4, 'no': 2})\n",
            "No and Yes classes: play Counter({'yes': 9, 'no': 5})\n",
            "No and Yes classes: play Counter({'no': 4, 'yes': 3})\n",
            "No and Yes classes: play Counter({'yes': 6, 'no': 1})\n",
            "No and Yes classes: play Counter({'yes': 9, 'no': 5})\n",
            "No and Yes classes: play Counter({'no': 3, 'yes': 3})\n",
            "No and Yes classes: play Counter({'yes': 6, 'no': 2})\n",
            "No and Yes classes: play Counter({'yes': 9, 'no': 5})\n",
            "No and Yes classes: play Counter({'yes': 1, 'no': 1})\n",
            "No and Yes classes: play Counter({'yes': 2, 'no': 1})\n",
            "No and Yes classes: play Counter({'yes': 3, 'no': 2})\n",
            "No and Yes classes: play Counter({'yes': 1, 'no': 1})\n",
            "No and Yes classes: play Counter({'yes': 2, 'no': 1})\n",
            "No and Yes classes: play Counter({'yes': 3, 'no': 2})\n",
            "No and Yes classes: play Counter({'no': 2})\n",
            "No and Yes classes: play Counter({'yes': 3})\n",
            "No and Yes classes: play Counter({'yes': 3, 'no': 2})\n",
            "No and Yes classes: play Counter({'yes': 1})\n",
            "No and Yes classes: play Counter({'no': 2})\n",
            "No and Yes classes: play Counter({'no': 1, 'yes': 1})\n",
            "No and Yes classes: play Counter({'no': 3, 'yes': 2})\n",
            "No and Yes classes: play Counter({'no': 3})\n",
            "No and Yes classes: play Counter({'yes': 2})\n",
            "No and Yes classes: play Counter({'no': 3, 'yes': 2})\n",
            "No and Yes classes: play Counter({'no': 1, 'yes': 1})\n",
            "No and Yes classes: play Counter({'no': 2, 'yes': 1})\n",
            "No and Yes classes: play Counter({'no': 3, 'yes': 2})\n",
            "Final Decision Tree:\n",
            "\n",
            "{'outlook': {'overcast': 'yes',\n",
            "             'rainy': {'wind': {'strong': 'no', 'weak': 'yes'}},\n",
            "             'sunny': {'humidity': {'high': 'no', 'normal': 'yes'}}}}\n"
          ],
          "name": "stdout"
        }
      ]
    },
    {
      "cell_type": "code",
      "metadata": {
        "id": "55-kHQ_EfUY-",
        "colab_type": "code",
        "colab": {}
      },
      "source": [
        ""
      ],
      "execution_count": 0,
      "outputs": []
    }
  ]
}