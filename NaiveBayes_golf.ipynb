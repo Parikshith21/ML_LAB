{
  "nbformat": 4,
  "nbformat_minor": 0,
  "metadata": {
    "colab": {
      "name": "NaiveBayes_golf.ipynb",
      "provenance": [],
      "collapsed_sections": [],
      "include_colab_link": true
    },
    "kernelspec": {
      "name": "python3",
      "display_name": "Python 3"
    }
  },
  "cells": [
    {
      "cell_type": "markdown",
      "metadata": {
        "id": "view-in-github",
        "colab_type": "text"
      },
      "source": [
        "<a href=\"https://colab.research.google.com/github/Parikshith21/ML_LAB/blob/master/NaiveBayes_golf.ipynb\" target=\"_parent\"><img src=\"https://colab.research.google.com/assets/colab-badge.svg\" alt=\"Open In Colab\"/></a>"
      ]
    },
    {
      "cell_type": "code",
      "metadata": {
        "id": "jVD5AhAKK7Qq",
        "colab_type": "code",
        "colab": {}
      },
      "source": [
        "import pandas as pd\n",
        "from pandas import DataFrame"
      ],
      "execution_count": 0,
      "outputs": []
    },
    {
      "cell_type": "code",
      "metadata": {
        "id": "vmHuu8boMtEU",
        "colab_type": "code",
        "colab": {
          "base_uri": "https://localhost:8080/",
          "height": 365
        },
        "outputId": "00c2d8c9-753d-40d5-824a-b46cd74e39aa"
      },
      "source": [
        "df_golf = DataFrame.from_csv(\"golf.csv\")\n",
        "print(df_golf)"
      ],
      "execution_count": 7,
      "outputs": [
        {
          "output_type": "stream",
          "text": [
            "       outlook    temp  humidity      wind  label\n",
            "id                                               \n",
            "1      'Sunny'   'Hot'    'High'    'Weak'   'No'\n",
            "2      'Sunny'   'Hot'    'High'  'Strong'   'No'\n",
            "3   'Overcast'   'Hot'    'High'    'Weak'  'Yes'\n",
            "4       'Rain'  'Mild'    'High'    'Weak'  'Yes'\n",
            "5       'Rain'  'Cool'  'Normal'    'Weak'  'Yes'\n",
            "6       'Rain'  'Cool'  'Normal'  'Strong'   'No'\n",
            "7   'Overcast'  'Cool'  'Normal'  'Strong'  'Yes'\n",
            "8      'Sunny'  'Mild'    'High'    'Weak'   'No'\n",
            "9      'Sunny'  'Cool'  'Normal'    'Weak'  'Yes'\n",
            "10      'Rain'  'Mild'  'Normal'    'Weak'  'Yes'\n",
            "11     'Sunny'  'Mild'  'Normal'  'Strong'  'Yes'\n",
            "12  'Overcast'  'Mild'    'High'  'Strong'  'Yes'\n",
            "13  'Overcast'   'Hot'  'Normal'    'Weak'  'Yes'\n",
            "14      'Rain'  'Mild'    'High'  'Strong'   'No'\n"
          ],
          "name": "stdout"
        },
        {
          "output_type": "stream",
          "text": [
            "/usr/local/lib/python3.6/dist-packages/ipykernel_launcher.py:1: FutureWarning: from_csv is deprecated. Please use read_csv(...) instead. Note that some of the default arguments are different, so please refer to the documentation for from_csv when changing your function calls\n",
            "  \"\"\"Entry point for launching an IPython kernel.\n"
          ],
          "name": "stderr"
        }
      ]
    },
    {
      "cell_type": "code",
      "metadata": {
        "id": "lgHkrxhFO-9i",
        "colab_type": "code",
        "colab": {
          "base_uri": "https://localhost:8080/",
          "height": 54
        },
        "outputId": "1be59a1d-5858-4ce9-dd3f-718db1df75a9"
      },
      "source": [
        "attribute_names = list(df_golf.columns)\n",
        "print(\"List of Attributes:\", attribute_names)\n",
        "attribute_names.remove('label')\n",
        "print(\"Predicting Attributes:\", attribute_names)\n",
        "table=dict()\n",
        "priorProb=dict()"
      ],
      "execution_count": 8,
      "outputs": [
        {
          "output_type": "stream",
          "text": [
            "List of Attributes: ['outlook', 'temp', 'humidity', 'wind', 'label']\n",
            "Predicting Attributes: ['outlook', 'temp', 'humidity', 'wind']\n"
          ],
          "name": "stdout"
        }
      ]
    },
    {
      "cell_type": "code",
      "metadata": {
        "id": "3so84mTqPBWx",
        "colab_type": "code",
        "colab": {}
      },
      "source": [
        "train=df_golf.sample(frac=0.8,random_state=100) #random state is a seed value\n",
        "test=df_golf.drop(train.index)"
      ],
      "execution_count": 0,
      "outputs": []
    },
    {
      "cell_type": "code",
      "metadata": {
        "id": "PUgNzvWjPFtg",
        "colab_type": "code",
        "colab": {
          "base_uri": "https://localhost:8080/",
          "height": 399
        },
        "outputId": "42487de7-2128-4867-cb3a-dbddf553341a"
      },
      "source": [
        "print(\"ddddddddddddddddddddddddddddddd\")\n",
        "print(train)\n",
        "print(\"dddddddddddddddddddddddddddddddd\")\n",
        "print(test)\n",
        "print(\"dddddddddddddddddddddddd\")"
      ],
      "execution_count": 10,
      "outputs": [
        {
          "output_type": "stream",
          "text": [
            "ddddddddddddddddddddddddddddddd\n",
            "       outlook    temp  humidity      wind  label\n",
            "id                                               \n",
            "12  'Overcast'  'Mild'    'High'  'Strong'  'Yes'\n",
            "13  'Overcast'   'Hot'  'Normal'    'Weak'  'Yes'\n",
            "6       'Rain'  'Cool'  'Normal'  'Strong'   'No'\n",
            "2      'Sunny'   'Hot'    'High'  'Strong'   'No'\n",
            "10      'Rain'  'Mild'  'Normal'    'Weak'  'Yes'\n",
            "5       'Rain'  'Cool'  'Normal'    'Weak'  'Yes'\n",
            "7   'Overcast'  'Cool'  'Normal'  'Strong'  'Yes'\n",
            "3   'Overcast'   'Hot'    'High'    'Weak'  'Yes'\n",
            "1      'Sunny'   'Hot'    'High'    'Weak'   'No'\n",
            "11     'Sunny'  'Mild'  'Normal'  'Strong'  'Yes'\n",
            "8      'Sunny'  'Mild'    'High'    'Weak'   'No'\n",
            "dddddddddddddddddddddddddddddddd\n",
            "    outlook    temp  humidity      wind  label\n",
            "id                                            \n",
            "4    'Rain'  'Mild'    'High'    'Weak'  'Yes'\n",
            "9   'Sunny'  'Cool'  'Normal'    'Weak'  'Yes'\n",
            "14   'Rain'  'Mild'    'High'  'Strong'   'No'\n",
            "dddddddddddddddddddddddd\n"
          ],
          "name": "stdout"
        }
      ]
    },
    {
      "cell_type": "code",
      "metadata": {
        "id": "h5SQqjjVPTAA",
        "colab_type": "code",
        "colab": {
          "base_uri": "https://localhost:8080/",
          "height": 346
        },
        "outputId": "74ede32f-2a07-49c7-852f-829d45fff7c6"
      },
      "source": [
        "for attr_val, data_subset in train.groupby(\"label\"):\n",
        "    from collections import Counter\n",
        "    valueCount = dict()\n",
        "    count=0\n",
        "    for attr_value in attribute_names:\n",
        "        cnt = Counter(x for x in data_subset[attr_value])\n",
        "        count=sum(cnt.values())\n",
        "        valueCount[attr_value]=dict(cnt)\n",
        "        print(\"value count\", valueCount.values())\n",
        "        print(\"counter:-\",cnt)\n",
        "\n",
        "    table[attr_val]=valueCount\n",
        "    priorProb[attr_val]=count\n",
        "print(\"*******************************************\")\n",
        "from pprint import pprint\n"
      ],
      "execution_count": 14,
      "outputs": [
        {
          "output_type": "stream",
          "text": [
            "value count dict_values([{\"'Rain'\": 1, \"'Sunny'\": 3}])\n",
            "counter:- Counter({\"'Sunny'\": 3, \"'Rain'\": 1})\n",
            "value count dict_values([{\"'Rain'\": 1, \"'Sunny'\": 3}, {\"'Cool'\": 1, \"'Hot'\": 2, \"'Mild'\": 1}])\n",
            "counter:- Counter({\"'Hot'\": 2, \"'Cool'\": 1, \"'Mild'\": 1})\n",
            "value count dict_values([{\"'Rain'\": 1, \"'Sunny'\": 3}, {\"'Cool'\": 1, \"'Hot'\": 2, \"'Mild'\": 1}, {\"'Normal'\": 1, \"'High'\": 3}])\n",
            "counter:- Counter({\"'High'\": 3, \"'Normal'\": 1})\n",
            "value count dict_values([{\"'Rain'\": 1, \"'Sunny'\": 3}, {\"'Cool'\": 1, \"'Hot'\": 2, \"'Mild'\": 1}, {\"'Normal'\": 1, \"'High'\": 3}, {\"'Strong'\": 2, \"'Weak'\": 2}])\n",
            "counter:- Counter({\"'Strong'\": 2, \"'Weak'\": 2})\n",
            "value count dict_values([{\"'Overcast'\": 4, \"'Rain'\": 2, \"'Sunny'\": 1}])\n",
            "counter:- Counter({\"'Overcast'\": 4, \"'Rain'\": 2, \"'Sunny'\": 1})\n",
            "value count dict_values([{\"'Overcast'\": 4, \"'Rain'\": 2, \"'Sunny'\": 1}, {\"'Mild'\": 3, \"'Hot'\": 2, \"'Cool'\": 2}])\n",
            "counter:- Counter({\"'Mild'\": 3, \"'Hot'\": 2, \"'Cool'\": 2})\n",
            "value count dict_values([{\"'Overcast'\": 4, \"'Rain'\": 2, \"'Sunny'\": 1}, {\"'Mild'\": 3, \"'Hot'\": 2, \"'Cool'\": 2}, {\"'High'\": 2, \"'Normal'\": 5}])\n",
            "counter:- Counter({\"'Normal'\": 5, \"'High'\": 2})\n",
            "value count dict_values([{\"'Overcast'\": 4, \"'Rain'\": 2, \"'Sunny'\": 1}, {\"'Mild'\": 3, \"'Hot'\": 2, \"'Cool'\": 2}, {\"'High'\": 2, \"'Normal'\": 5}, {\"'Strong'\": 3, \"'Weak'\": 4}])\n",
            "counter:- Counter({\"'Weak'\": 4, \"'Strong'\": 3})\n",
            "*******************************************\n"
          ],
          "name": "stdout"
        }
      ]
    },
    {
      "cell_type": "code",
      "metadata": {
        "id": "LvSRCz3UUP2z",
        "colab_type": "code",
        "colab": {
          "base_uri": "https://localhost:8080/",
          "height": 254
        },
        "outputId": "e79367c5-8d78-4654-8de3-e5a6fda9514f"
      },
      "source": [
        "print(\"\\n\\nThe Resultant table is :\\n\")\n",
        "pprint(table)\n",
        "pprint(priorProb)"
      ],
      "execution_count": 15,
      "outputs": [
        {
          "output_type": "stream",
          "text": [
            "\n",
            "\n",
            "The Resultant table is :\n",
            "\n",
            "{\"'No'\": {'humidity': {\"'High'\": 3, \"'Normal'\": 1},\n",
            "          'outlook': {\"'Rain'\": 1, \"'Sunny'\": 3},\n",
            "          'temp': {\"'Cool'\": 1, \"'Hot'\": 2, \"'Mild'\": 1},\n",
            "          'wind': {\"'Strong'\": 2, \"'Weak'\": 2}},\n",
            " \"'Yes'\": {'humidity': {\"'High'\": 2, \"'Normal'\": 5},\n",
            "           'outlook': {\"'Overcast'\": 4, \"'Rain'\": 2, \"'Sunny'\": 1},\n",
            "           'temp': {\"'Cool'\": 2, \"'Hot'\": 2, \"'Mild'\": 3},\n",
            "           'wind': {\"'Strong'\": 3, \"'Weak'\": 4}}}\n",
            "{\"'No'\": 4, \"'Yes'\": 7}\n"
          ],
          "name": "stdout"
        }
      ]
    },
    {
      "cell_type": "code",
      "metadata": {
        "id": "TrsLN7qjUxsP",
        "colab_type": "code",
        "colab": {
          "base_uri": "https://localhost:8080/",
          "height": 1000
        },
        "outputId": "417a6580-ce5a-4b5c-f734-5a725c385245"
      },
      "source": [
        "totalSize=test['label'].count()\n",
        "correctPridictions=0\n",
        "for k, row in test.iterrows():\n",
        "\n",
        "    rowTuple=dict(row)\n",
        "    print(\"print row tuple\")\n",
        "    pprint(rowTuple)\n",
        "    postioriList=list()\n",
        "    labelList=list()\n",
        "    for label in table.keys():\n",
        "        posteriori = 1.0\n",
        "        print(\"RowTuple\",rowTuple.keys())\n",
        "        print(\"RowValues\",rowTuple.values())\n",
        "        for key in [x for x in rowTuple.keys() if x != 'label']:\n",
        "            print(key, \"label:\",label)\n",
        "            attributeValue=rowTuple.get(key)\n",
        "            if attributeValue in table[label][key].keys():\n",
        "                countList=table[label][key].values()\n",
        "                #print(\"CountList:\", countList)\n",
        "                attributeCount=table[label][key][attributeValue]\n",
        "                #print(\"CountList:\",countList)\n",
        "                #print(\"SumCountList\",sum(countList))\n",
        "                #print(\"AttributeCount:\",attributeCount)\n",
        "                #print(\"key:valuepair\",key,\":\",rowTuple[key])\n",
        "                posteriori=1.0*attributeCount/sum(countList)*posteriori\n",
        "\n",
        "        posteriori=posteriori*priorProb[label]\n",
        "        labelList.append(label)\n",
        "        postioriList.append(posteriori)\n",
        "        print(labelList)\n",
        "        print(postioriList)\n",
        "    maxProbInd = postioriList.index(max(postioriList))\n",
        "    print(rowTuple['label'], \"::::\", labelList[maxProbInd])\n",
        "    if rowTuple['label'] == labelList[maxProbInd]:\n",
        "        print(rowTuple['label'],\"::::\",labelList[maxProbInd])\n",
        "        correctPridictions=correctPridictions+1\n",
        "        print(\"POSTERIORI OF:\",label,\"is:\",posteriori)\n",
        "print(\"Number of Correct Predictions : Number of Samples\",correctPridictions,\":\",totalSize)\n",
        "print(\"Accuracy:\",100.0*correctPridictions/totalSize)\n"
      ],
      "execution_count": 20,
      "outputs": [
        {
          "output_type": "stream",
          "text": [
            "print row tuple\n",
            "{'humidity': \"'High'\",\n",
            " 'label': \"'Yes'\",\n",
            " 'outlook': \"'Rain'\",\n",
            " 'temp': \"'Mild'\",\n",
            " 'wind': \"'Weak'\"}\n",
            "RowTuple dict_keys(['outlook', 'temp', 'humidity', 'wind', 'label'])\n",
            "RowValues dict_values([\"'Rain'\", \"'Mild'\", \"'High'\", \"'Weak'\", \"'Yes'\"])\n",
            "outlook label: 'Yes'\n",
            "temp label: 'Yes'\n",
            "humidity label: 'Yes'\n",
            "wind label: 'Yes'\n",
            "[\"'Yes'\"]\n",
            "[0.13994169096209907]\n",
            "RowTuple dict_keys(['outlook', 'temp', 'humidity', 'wind', 'label'])\n",
            "RowValues dict_values([\"'Rain'\", \"'Mild'\", \"'High'\", \"'Weak'\", \"'Yes'\"])\n",
            "outlook label: 'No'\n",
            "temp label: 'No'\n",
            "humidity label: 'No'\n",
            "wind label: 'No'\n",
            "[\"'Yes'\", \"'No'\"]\n",
            "[0.13994169096209907, 0.09375]\n",
            "'Yes' :::: 'Yes'\n",
            "'Yes' :::: 'Yes'\n",
            "POSTERIORI OF: 'No' is: 0.09375\n",
            "print row tuple\n",
            "{'humidity': \"'Normal'\",\n",
            " 'label': \"'Yes'\",\n",
            " 'outlook': \"'Sunny'\",\n",
            " 'temp': \"'Cool'\",\n",
            " 'wind': \"'Weak'\"}\n",
            "RowTuple dict_keys(['outlook', 'temp', 'humidity', 'wind', 'label'])\n",
            "RowValues dict_values([\"'Sunny'\", \"'Cool'\", \"'Normal'\", \"'Weak'\", \"'Yes'\"])\n",
            "outlook label: 'Yes'\n",
            "temp label: 'Yes'\n",
            "humidity label: 'Yes'\n",
            "wind label: 'Yes'\n",
            "[\"'Yes'\"]\n",
            "[0.11661807580174925]\n",
            "RowTuple dict_keys(['outlook', 'temp', 'humidity', 'wind', 'label'])\n",
            "RowValues dict_values([\"'Sunny'\", \"'Cool'\", \"'Normal'\", \"'Weak'\", \"'Yes'\"])\n",
            "outlook label: 'No'\n",
            "temp label: 'No'\n",
            "humidity label: 'No'\n",
            "wind label: 'No'\n",
            "[\"'Yes'\", \"'No'\"]\n",
            "[0.11661807580174925, 0.09375]\n",
            "'Yes' :::: 'Yes'\n",
            "'Yes' :::: 'Yes'\n",
            "POSTERIORI OF: 'No' is: 0.09375\n",
            "print row tuple\n",
            "{'humidity': \"'High'\",\n",
            " 'label': \"'No'\",\n",
            " 'outlook': \"'Rain'\",\n",
            " 'temp': \"'Mild'\",\n",
            " 'wind': \"'Strong'\"}\n",
            "RowTuple dict_keys(['outlook', 'temp', 'humidity', 'wind', 'label'])\n",
            "RowValues dict_values([\"'Rain'\", \"'Mild'\", \"'High'\", \"'Strong'\", \"'No'\"])\n",
            "outlook label: 'Yes'\n",
            "temp label: 'Yes'\n",
            "humidity label: 'Yes'\n",
            "wind label: 'Yes'\n",
            "[\"'Yes'\"]\n",
            "[0.10495626822157432]\n",
            "RowTuple dict_keys(['outlook', 'temp', 'humidity', 'wind', 'label'])\n",
            "RowValues dict_values([\"'Rain'\", \"'Mild'\", \"'High'\", \"'Strong'\", \"'No'\"])\n",
            "outlook label: 'No'\n",
            "temp label: 'No'\n",
            "humidity label: 'No'\n",
            "wind label: 'No'\n",
            "[\"'Yes'\", \"'No'\"]\n",
            "[0.10495626822157432, 0.09375]\n",
            "'No' :::: 'Yes'\n",
            "Number of Correct Predictions : Number of Samples 2 : 3\n",
            "Accuracy: 66.66666666666667\n"
          ],
          "name": "stdout"
        }
      ]
    },
    {
      "cell_type": "code",
      "metadata": {
        "id": "M1-9W9akVCsf",
        "colab_type": "code",
        "colab": {}
      },
      "source": [
        ""
      ],
      "execution_count": 0,
      "outputs": []
    }
  ]
}